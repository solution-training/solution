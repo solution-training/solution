{
 "cells": [
  {
   "cell_type": "markdown",
   "metadata": {},
   "source": [
    "# RFM分析"
   ]
  },
  {
   "cell_type": "code",
   "execution_count": 1,
   "metadata": {
    "ExecuteTime": {
     "end_time": "2020-03-24T04:26:02.419392Z",
     "start_time": "2020-03-24T04:26:00.461409Z"
    }
   },
   "outputs": [],
   "source": [
    "# ライブラリの読み込み\n",
    "import pandas as pd\n",
    "import matplotlib.pyplot\n",
    "import datetime as dt\n",
    "from mpl_toolkits.mplot3d import Axes3D"
   ]
  },
  {
   "cell_type": "code",
   "execution_count": 2,
   "metadata": {
    "ExecuteTime": {
     "end_time": "2020-03-24T04:26:04.378310Z",
     "start_time": "2020-03-24T04:26:04.335208Z"
    }
   },
   "outputs": [
    {
     "data": {
      "text/html": [
       "<div>\n",
       "<style scoped>\n",
       "    .dataframe tbody tr th:only-of-type {\n",
       "        vertical-align: middle;\n",
       "    }\n",
       "\n",
       "    .dataframe tbody tr th {\n",
       "        vertical-align: top;\n",
       "    }\n",
       "\n",
       "    .dataframe thead th {\n",
       "        text-align: right;\n",
       "    }\n",
       "</style>\n",
       "<table border=\"1\" class=\"dataframe\">\n",
       "  <thead>\n",
       "    <tr style=\"text-align: right;\">\n",
       "      <th></th>\n",
       "      <th>id</th>\n",
       "      <th>date</th>\n",
       "      <th>category</th>\n",
       "      <th>price</th>\n",
       "    </tr>\n",
       "  </thead>\n",
       "  <tbody>\n",
       "    <tr>\n",
       "      <td>0</td>\n",
       "      <td>1000</td>\n",
       "      <td>2016/1/8</td>\n",
       "      <td>子供服</td>\n",
       "      <td>500</td>\n",
       "    </tr>\n",
       "    <tr>\n",
       "      <td>1</td>\n",
       "      <td>1000</td>\n",
       "      <td>2016/1/8</td>\n",
       "      <td>子供服</td>\n",
       "      <td>4900</td>\n",
       "    </tr>\n",
       "    <tr>\n",
       "      <td>2</td>\n",
       "      <td>1000</td>\n",
       "      <td>2016/1/8</td>\n",
       "      <td>収納</td>\n",
       "      <td>10900</td>\n",
       "    </tr>\n",
       "    <tr>\n",
       "      <td>3</td>\n",
       "      <td>1000</td>\n",
       "      <td>2016/1/8</td>\n",
       "      <td>女ファッション</td>\n",
       "      <td>300</td>\n",
       "    </tr>\n",
       "    <tr>\n",
       "      <td>4</td>\n",
       "      <td>1000</td>\n",
       "      <td>2016/1/8</td>\n",
       "      <td>女パンツ</td>\n",
       "      <td>2500</td>\n",
       "    </tr>\n",
       "  </tbody>\n",
       "</table>\n",
       "</div>"
      ],
      "text/plain": [
       "     id      date category  price\n",
       "0  1000  2016/1/8      子供服    500\n",
       "1  1000  2016/1/8      子供服   4900\n",
       "2  1000  2016/1/8       収納  10900\n",
       "3  1000  2016/1/8  女ファッション    300\n",
       "4  1000  2016/1/8     女パンツ   2500"
      ]
     },
     "execution_count": 2,
     "metadata": {},
     "output_type": "execute_result"
    }
   ],
   "source": [
    "# ファイルの読み込み\n",
    "df = pd.read_csv('buying.csv', encoding=\"SHIFT-JIS\")\n",
    "df.head()"
   ]
  },
  {
   "cell_type": "code",
   "execution_count": 3,
   "metadata": {
    "ExecuteTime": {
     "end_time": "2020-03-24T04:26:05.082896Z",
     "start_time": "2020-03-24T04:26:05.070895Z"
    },
    "scrolled": true
   },
   "outputs": [
    {
     "name": "stdout",
     "output_type": "stream",
     "text": [
      "<class 'pandas.core.frame.DataFrame'>\n",
      "RangeIndex: 945 entries, 0 to 944\n",
      "Data columns (total 4 columns):\n",
      "id          945 non-null int64\n",
      "date        945 non-null object\n",
      "category    945 non-null object\n",
      "price       945 non-null int64\n",
      "dtypes: int64(2), object(2)\n",
      "memory usage: 29.7+ KB\n"
     ]
    }
   ],
   "source": [
    "# データの型確認\n",
    "df.info()"
   ]
  },
  {
   "cell_type": "markdown",
   "metadata": {},
   "source": [
    "4行945列のデータ\n",
    "\n",
    "id:各ユーザに割り当てられた番号\n",
    "\n",
    "date:購入した年月日\n",
    "\n",
    "category:購入した商品の種類\n",
    "\n",
    "price:購入した商品の金額"
   ]
  },
  {
   "cell_type": "code",
   "execution_count": 4,
   "metadata": {
    "ExecuteTime": {
     "end_time": "2020-03-24T04:26:05.608407Z",
     "start_time": "2020-03-24T04:26:05.589421Z"
    },
    "scrolled": true
   },
   "outputs": [
    {
     "name": "stdout",
     "output_type": "stream",
     "text": [
      "<class 'pandas.core.frame.DataFrame'>\n",
      "RangeIndex: 945 entries, 0 to 944\n",
      "Data columns (total 4 columns):\n",
      "id          945 non-null object\n",
      "date        945 non-null datetime64[ns]\n",
      "category    945 non-null object\n",
      "price       945 non-null int64\n",
      "dtypes: datetime64[ns](1), int64(1), object(2)\n",
      "memory usage: 29.7+ KB\n"
     ]
    }
   ],
   "source": [
    "# データの型変換\n",
    "df['date'] = pd.to_datetime(df['date']) # 日付データを日付型に変換\n",
    "df['id'] = df['id'].astype(str) # idデータを文字型に変換\n",
    "df.info()"
   ]
  },
  {
   "cell_type": "code",
   "execution_count": 5,
   "metadata": {
    "ExecuteTime": {
     "end_time": "2020-03-24T04:26:06.582972Z",
     "start_time": "2020-03-24T04:26:06.577984Z"
    }
   },
   "outputs": [
    {
     "name": "stdout",
     "output_type": "stream",
     "text": [
      "2016-04-21 00:00:00\n"
     ]
    }
   ],
   "source": [
    "# 経過日数を計算するための基準日を設定する（今回はデータの最終購入日である2016/02/01に指定します）\n",
    "NOW = dt.datetime(2016,4,21)\n",
    "print(NOW)"
   ]
  },
  {
   "cell_type": "code",
   "execution_count": 6,
   "metadata": {
    "ExecuteTime": {
     "end_time": "2020-03-24T04:26:07.605889Z",
     "start_time": "2020-03-24T04:26:07.551205Z"
    }
   },
   "outputs": [],
   "source": [
    "# R、F、Mの各値をユーザ毎に集計する\n",
    "import numpy as np\n",
    "buying = df.groupby('id').agg({'date': lambda x: (NOW - x.max()).days, # Recency（各ユーザの最終購入日から基準日までの経過日数）\n",
    "                                'category': [len], # Frequency（各ユーザの購入回数）\n",
    "                                'price': [np.sum]  # Monetary Value（各ユーザの合計金額）\n",
    "                              }) "
   ]
  },
  {
   "cell_type": "code",
   "execution_count": 7,
   "metadata": {
    "ExecuteTime": {
     "end_time": "2020-03-24T04:26:08.263896Z",
     "start_time": "2020-03-24T04:26:08.257912Z"
    }
   },
   "outputs": [
    {
     "data": {
      "text/plain": [
       "MultiIndex([(    'date', '<lambda>'),\n",
       "            ('category',      'len'),\n",
       "            (   'price',      'sum')],\n",
       "           )"
      ]
     },
     "execution_count": 7,
     "metadata": {},
     "output_type": "execute_result"
    }
   ],
   "source": [
    "# カラム名の表示\n",
    "buying.columns"
   ]
  },
  {
   "cell_type": "code",
   "execution_count": 8,
   "metadata": {
    "ExecuteTime": {
     "end_time": "2020-03-24T04:26:09.147720Z",
     "start_time": "2020-03-24T04:26:09.142731Z"
    }
   },
   "outputs": [
    {
     "data": {
      "text/plain": [
       "Index(['recency', 'frequency', 'monetary'], dtype='object')"
      ]
     },
     "execution_count": 8,
     "metadata": {},
     "output_type": "execute_result"
    }
   ],
   "source": [
    "# カラム名を変更する\n",
    "buying.columns = ['recency', 'frequency', 'monetary']\n",
    "# カラム名が変更できたか確認\n",
    "buying.columns"
   ]
  },
  {
   "cell_type": "code",
   "execution_count": 18,
   "metadata": {
    "ExecuteTime": {
     "end_time": "2020-03-24T05:44:15.956466Z",
     "start_time": "2020-03-24T05:44:15.950482Z"
    }
   },
   "outputs": [],
   "source": [
    "# R、F、Mのそれぞれについて４段階でスコア付けをする関数を定義（１が高評価で４が低評価）\n",
    "def pct_rank_qcut(series, n):\n",
    "    edges = pd.Series([float(i) / n for i in range(n + 1)])\n",
    "    f = lambda x: (edges >= x).argmax()\n",
    "    print(f)\n",
    "    return series.rank(pct=1).apply(f)"
   ]
  },
  {
   "cell_type": "markdown",
   "metadata": {},
   "source": [
    "上記関数の説明\n",
    "https://ja.coder.work/so/python/1246284"
   ]
  },
  {
   "cell_type": "code",
   "execution_count": 19,
   "metadata": {
    "ExecuteTime": {
     "end_time": "2020-03-24T05:44:17.089028Z",
     "start_time": "2020-03-24T05:44:16.902523Z"
    }
   },
   "outputs": [
    {
     "name": "stdout",
     "output_type": "stream",
     "text": [
      "<function pct_rank_qcut.<locals>.<lambda> at 0x000001BC8DE24C80>\n",
      "<function pct_rank_qcut.<locals>.<lambda> at 0x000001BC8DE24C80>\n",
      "<function pct_rank_qcut.<locals>.<lambda> at 0x000001BC8DE24C80>\n"
     ]
    },
    {
     "name": "stderr",
     "output_type": "stream",
     "text": [
      "C:\\Users\\Nakai.Tomoki\\Anaconda3\\lib\\site-packages\\ipykernel_launcher.py:4: FutureWarning: \n",
      "The current behaviour of 'Series.argmax' is deprecated, use 'idxmax'\n",
      "instead.\n",
      "The behavior of 'argmax' will be corrected to return the positional\n",
      "maximum in the future. For now, use 'series.values.argmax' or\n",
      "'np.argmax(np.array(values))' to get the position of the maximum\n",
      "row.\n",
      "  after removing the cwd from sys.path.\n"
     ]
    },
    {
     "data": {
      "text/html": [
       "<div>\n",
       "<style scoped>\n",
       "    .dataframe tbody tr th:only-of-type {\n",
       "        vertical-align: middle;\n",
       "    }\n",
       "\n",
       "    .dataframe tbody tr th {\n",
       "        vertical-align: top;\n",
       "    }\n",
       "\n",
       "    .dataframe thead th {\n",
       "        text-align: right;\n",
       "    }\n",
       "</style>\n",
       "<table border=\"1\" class=\"dataframe\">\n",
       "  <thead>\n",
       "    <tr style=\"text-align: right;\">\n",
       "      <th></th>\n",
       "      <th>recency</th>\n",
       "      <th>frequency</th>\n",
       "      <th>monetary</th>\n",
       "      <th>rec_dec</th>\n",
       "      <th>freq_dec</th>\n",
       "      <th>mv_dec</th>\n",
       "      <th>RFMClass</th>\n",
       "    </tr>\n",
       "    <tr>\n",
       "      <th>id</th>\n",
       "      <th></th>\n",
       "      <th></th>\n",
       "      <th></th>\n",
       "      <th></th>\n",
       "      <th></th>\n",
       "      <th></th>\n",
       "      <th></th>\n",
       "    </tr>\n",
       "  </thead>\n",
       "  <tbody>\n",
       "    <tr>\n",
       "      <td>1000</td>\n",
       "      <td>21</td>\n",
       "      <td>12</td>\n",
       "      <td>33500</td>\n",
       "      <td>1</td>\n",
       "      <td>1</td>\n",
       "      <td>1</td>\n",
       "      <td>111</td>\n",
       "    </tr>\n",
       "    <tr>\n",
       "      <td>1001</td>\n",
       "      <td>45</td>\n",
       "      <td>2</td>\n",
       "      <td>7600</td>\n",
       "      <td>2</td>\n",
       "      <td>3</td>\n",
       "      <td>2</td>\n",
       "      <td>232</td>\n",
       "    </tr>\n",
       "    <tr>\n",
       "      <td>1002</td>\n",
       "      <td>41</td>\n",
       "      <td>1</td>\n",
       "      <td>4800</td>\n",
       "      <td>2</td>\n",
       "      <td>4</td>\n",
       "      <td>3</td>\n",
       "      <td>243</td>\n",
       "    </tr>\n",
       "    <tr>\n",
       "      <td>1003</td>\n",
       "      <td>91</td>\n",
       "      <td>1</td>\n",
       "      <td>10000</td>\n",
       "      <td>4</td>\n",
       "      <td>4</td>\n",
       "      <td>2</td>\n",
       "      <td>442</td>\n",
       "    </tr>\n",
       "    <tr>\n",
       "      <td>1004</td>\n",
       "      <td>103</td>\n",
       "      <td>2</td>\n",
       "      <td>3100</td>\n",
       "      <td>4</td>\n",
       "      <td>3</td>\n",
       "      <td>4</td>\n",
       "      <td>434</td>\n",
       "    </tr>\n",
       "  </tbody>\n",
       "</table>\n",
       "</div>"
      ],
      "text/plain": [
       "      recency  frequency  monetary  rec_dec  freq_dec  mv_dec RFMClass\n",
       "id                                                                    \n",
       "1000       21         12     33500        1         1       1      111\n",
       "1001       45          2      7600        2         3       2      232\n",
       "1002       41          1      4800        2         4       3      243\n",
       "1003       91          1     10000        4         4       2      442\n",
       "1004      103          2      3100        4         3       4      434"
      ]
     },
     "execution_count": 19,
     "metadata": {},
     "output_type": "execute_result"
    }
   ],
   "source": [
    "# Recency\n",
    "buying['rec_dec'] = pct_rank_qcut(buying['recency'], 4)\n",
    "\n",
    "# Frequency（数が大きなものを1、小さなものを4とランク付け）\n",
    "freq_dec = pct_rank_qcut(buying['frequency'], 4)\n",
    "buying['freq_dec'] = 5 - freq_dec\n",
    "\n",
    "# Monetary（数が大きなものを1、小さなものを4とランク付け）\n",
    "mv_dec = pct_rank_qcut(buying['monetary'], 4)\n",
    "buying['mv_dec'] = 5 - mv_dec\n",
    "\n",
    "# R,F,Mの3つを組み合わせて、RFMスコアを作成\n",
    "buying['RFMClass'] = buying.rec_dec.map(str) + buying.freq_dec.map(str) + buying.mv_dec.map(str)\n",
    "\n",
    "buying.head()"
   ]
  },
  {
   "cell_type": "code",
   "execution_count": 14,
   "metadata": {
    "ExecuteTime": {
     "end_time": "2020-03-24T05:12:08.509314Z",
     "start_time": "2020-03-24T05:12:08.315875Z"
    }
   },
   "outputs": [
    {
     "data": {
      "text/plain": [
       "<matplotlib.axes._subplots.AxesSubplot at 0x1bc8f4b2710>"
      ]
     },
     "execution_count": 14,
     "metadata": {},
     "output_type": "execute_result"
    },
    {
     "data": {
      "image/png": "[encoded data removed]",
      "text/plain": [
       "<Figure size 432x288 with 1 Axes>"
      ]
     },
     "metadata": {
      "needs_background": "light"
     },
     "output_type": "display_data"
    }
   ],
   "source": [
    "# Recencyの4つのグループにつき、購入金額の平均を比較\n",
    "rec_dec_m = buying.groupby(['rec_dec'])['monetary'].mean()\n",
    "rec_dec_m.plot(kind='bar')"
   ]
  },
  {
   "cell_type": "markdown",
   "metadata": {},
   "source": [
    "↑Recencyに対するチャート（縦軸：購入金額の平均）\n",
    "\n",
    "知見：最終購入日が基準日に近いユーザの方が1回の買い物での購入金額が多い"
   ]
  },
  {
   "cell_type": "code",
   "execution_count": 15,
   "metadata": {
    "ExecuteTime": {
     "end_time": "2020-03-24T05:14:32.379550Z",
     "start_time": "2020-03-24T05:14:32.155710Z"
    }
   },
   "outputs": [
    {
     "data": {
      "text/plain": [
       "<matplotlib.axes._subplots.AxesSubplot at 0x1bc8ffe8eb8>"
      ]
     },
     "execution_count": 15,
     "metadata": {},
     "output_type": "execute_result"
    },
    {
     "data": {
      "image/png": "[encoded data removed]",
      "text/plain": [
       "<Figure size 432x288 with 1 Axes>"
      ]
     },
     "metadata": {
      "needs_background": "light"
     },
     "output_type": "display_data"
    }
   ],
   "source": [
    "# Frequencyの4つのグループにつき、購入金額の平均を比較\n",
    "freq_dec_m = buying.groupby(['freq_dec'])['monetary'].mean()\n",
    "freq_dec_m.plot(kind='bar')"
   ]
  },
  {
   "cell_type": "markdown",
   "metadata": {},
   "source": [
    "↑Frequencyに対するチャート（縦軸：購入金額の平均）\n",
    "\n",
    "知見：購入回数が多いユーザの方が1回の買い物での購入金額が多い"
   ]
  },
  {
   "cell_type": "markdown",
   "metadata": {},
   "source": [
    "追記：buyingデータが手元にないためこれ以上作業を進めることができません（2020/3/27）"
   ]
  },
  {
   "cell_type": "markdown",
   "metadata": {},
   "source": [
    "参考サイト：http://nami3373.hatenablog.com/entry/2016/09/19/234525"
   ]
  }
 ],
 "metadata": {
  "kernelspec": {
   "display_name": "Python 3",
   "language": "python",
   "name": "python3"
  },
  "language_info": {
   "codemirror_mode": {
    "name": "ipython",
    "version": 3
   },
   "file_extension": ".py",
   "mimetype": "text/x-python",
   "name": "python",
   "nbconvert_exporter": "python",
   "pygments_lexer": "ipython3",
   "version": "3.7.6"
  },
  "toc": {
   "base_numbering": 1,
   "nav_menu": {},
   "number_sections": true,
   "sideBar": true,
   "skip_h1_title": false,
   "title_cell": "Table of Contents",
   "title_sidebar": "Contents",
   "toc_cell": false,
   "toc_position": {},
   "toc_section_display": true,
   "toc_window_display": false
  }
 },
 "nbformat": 4,
 "nbformat_minor": 2
}
